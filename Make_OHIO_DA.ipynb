{
 "cells": [
  {
   "cell_type": "code",
   "execution_count": 14,
   "metadata": {},
   "outputs": [],
   "source": [
    "# Data Process \n",
    "# Generate data and generate html"
   ]
  },
  {
   "cell_type": "code",
   "execution_count": 211,
   "metadata": {},
   "outputs": [],
   "source": [
    "import io\n",
    "import re\n",
    "import base64\n",
    "import time \n",
    "import random\n",
    "import warnings\n",
    "import numpy as np\n",
    "from datetime import datetime\n",
    "from mpl_toolkits.mplot3d import Axes3D\n",
    "from sklearn.decomposition import TruncatedSVD\n",
    "from sklearn.preprocessing import normalize\n",
    "from sklearn.feature_extraction.text import CountVectorizer\n",
    "from sklearn.manifold import TSNE\n",
    "import seaborn as sns\n",
    "from sklearn.neighbors import KNeighborsClassifier\n",
    "from sklearn.metrics import confusion_matrix\n",
    "from sklearn.metrics.classification import accuracy_score, log_loss\n",
    "from sklearn.feature_extraction.text import TfidfVectorizer\n",
    "from sklearn.linear_model import SGDClassifier\n",
    "from collections import Counter\n",
    "from scipy.sparse import hstack\n",
    "from scipy.stats import pearsonr\n",
    "from sklearn.multiclass import OneVsRestClassifier\n",
    "from sklearn.svm import SVC\n",
    "from sklearn import model_selection\n",
    "from sklearn.linear_model import LogisticRegression"
   ]
  },
  {
   "cell_type": "code",
   "execution_count": 212,
   "metadata": {},
   "outputs": [],
   "source": [
    "df = pd.read_csv('/Users/chenzhuo/Desktop/data.csv', header= None)\n",
    "\n",
    "# Evaluate time series \n",
    "# x = time.strftime('%Y-%m-%d: %M:%S', time.localtime(1347617370))\n",
    "\n",
    "# print(x)"
   ]
  },
  {
   "cell_type": "code",
   "execution_count": 213,
   "metadata": {},
   "outputs": [
    {
     "name": "stdout",
     "output_type": "stream",
     "text": [
      "               0            1       2\n",
      "0  1583006871438     humidity   22.00\n",
      "1  1583006871446  temperature   73.94\n",
      "2  1583006871446          co2  759.00\n",
      "3  1583006871447         tvoc   54.00\n",
      "4  1583006874510     humidity   22.00\n",
      "<class 'pandas.core.frame.DataFrame'>\n",
      "RangeIndex: 3623 entries, 0 to 3622\n",
      "Data columns (total 3 columns):\n",
      " #   Column  Non-Null Count  Dtype  \n",
      "---  ------  --------------  -----  \n",
      " 0   0       3623 non-null   int64  \n",
      " 1   1       3623 non-null   object \n",
      " 2   2       3597 non-null   float64\n",
      "dtypes: float64(1), int64(1), object(1)\n",
      "memory usage: 85.0+ KB\n"
     ]
    },
    {
     "data": {
      "text/html": [
       "<div>\n",
       "<style scoped>\n",
       "    .dataframe tbody tr th:only-of-type {\n",
       "        vertical-align: middle;\n",
       "    }\n",
       "\n",
       "    .dataframe tbody tr th {\n",
       "        vertical-align: top;\n",
       "    }\n",
       "\n",
       "    .dataframe thead th {\n",
       "        text-align: right;\n",
       "    }\n",
       "</style>\n",
       "<table border=\"1\" class=\"dataframe\">\n",
       "  <thead>\n",
       "    <tr style=\"text-align: right;\">\n",
       "      <th></th>\n",
       "      <th>0</th>\n",
       "      <th>2</th>\n",
       "    </tr>\n",
       "  </thead>\n",
       "  <tbody>\n",
       "    <tr>\n",
       "      <th>count</th>\n",
       "      <td>3.623000e+03</td>\n",
       "      <td>3597.000000</td>\n",
       "    </tr>\n",
       "    <tr>\n",
       "      <th>mean</th>\n",
       "      <td>1.583008e+12</td>\n",
       "      <td>280.176475</td>\n",
       "    </tr>\n",
       "    <tr>\n",
       "      <th>std</th>\n",
       "      <td>9.495210e+05</td>\n",
       "      <td>477.063929</td>\n",
       "    </tr>\n",
       "    <tr>\n",
       "      <th>min</th>\n",
       "      <td>1.583007e+12</td>\n",
       "      <td>0.000000</td>\n",
       "    </tr>\n",
       "    <tr>\n",
       "      <th>25%</th>\n",
       "      <td>1.583008e+12</td>\n",
       "      <td>20.000000</td>\n",
       "    </tr>\n",
       "    <tr>\n",
       "      <th>50%</th>\n",
       "      <td>1.583008e+12</td>\n",
       "      <td>73.220000</td>\n",
       "    </tr>\n",
       "    <tr>\n",
       "      <th>75%</th>\n",
       "      <td>1.583009e+12</td>\n",
       "      <td>409.000000</td>\n",
       "    </tr>\n",
       "    <tr>\n",
       "      <th>max</th>\n",
       "      <td>1.583010e+12</td>\n",
       "      <td>2763.000000</td>\n",
       "    </tr>\n",
       "  </tbody>\n",
       "</table>\n",
       "</div>"
      ],
      "text/plain": [
       "                  0            2\n",
       "count  3.623000e+03  3597.000000\n",
       "mean   1.583008e+12   280.176475\n",
       "std    9.495210e+05   477.063929\n",
       "min    1.583007e+12     0.000000\n",
       "25%    1.583008e+12    20.000000\n",
       "50%    1.583008e+12    73.220000\n",
       "75%    1.583009e+12   409.000000\n",
       "max    1.583010e+12  2763.000000"
      ]
     },
     "execution_count": 213,
     "metadata": {},
     "output_type": "execute_result"
    }
   ],
   "source": [
    "# Print the output of df.head()\n",
    "print(df.head())\n",
    "df.info()\n",
    "df.describe()\n",
    "# df.shape\n",
    "# df.columns"
   ]
  },
  {
   "cell_type": "code",
   "execution_count": 214,
   "metadata": {},
   "outputs": [
    {
     "name": "stdout",
     "output_type": "stream",
     "text": [
      "0       1583006871438\n",
      "1       1583006871446\n",
      "3       1583006871447\n",
      "4       1583006874510\n",
      "5       1583006874518\n",
      "            ...      \n",
      "3616    1583010081049\n",
      "3617    1583010081050\n",
      "3619    1583010084113\n",
      "3620    1583010084133\n",
      "3621    1583010084134\n",
      "Name: 0, Length: 2558, dtype: int64\n"
     ]
    }
   ],
   "source": [
    "# Transfer the time to readable time \n",
    "time = df.iloc[:,0].astype('int64') ;\n",
    "time = time.drop_duplicates();\n",
    "print(time)\n",
    "#time.reset_index(drop=True, inplace=True)\n",
    "#time = time.unique();\n",
    "#time = time.sort();\n",
    "\n",
    "\n",
    "# time = datetime.datetime.fromtimestamp(timestamp)\n",
    "# print(f\"{time:%Y-%m-%d %H:%M:%S}\")"
   ]
  },
  {
   "cell_type": "code",
   "execution_count": 215,
   "metadata": {},
   "outputs": [
    {
     "data": {
      "text/plain": [
       "0    3623\n",
       "1    3623\n",
       "2    3597\n",
       "dtype: int64"
      ]
     },
     "execution_count": 215,
     "metadata": {},
     "output_type": "execute_result"
    }
   ],
   "source": [
    "df.count()"
   ]
  },
  {
   "cell_type": "code",
   "execution_count": 216,
   "metadata": {},
   "outputs": [
    {
     "name": "stdout",
     "output_type": "stream",
     "text": [
      "1     73.94\n",
      "5     74.48\n",
      "9     74.12\n",
      "13    74.30\n",
      "17    74.30\n",
      "Name: 0, dtype: float64\n",
      "3     54.0\n",
      "7     50.0\n",
      "11    47.0\n",
      "15    46.0\n",
      "19    42.0\n",
      "Name: 0, dtype: float64\n",
      "2     759.0\n",
      "6     733.0\n",
      "10    712.0\n",
      "14    704.0\n",
      "18    679.0\n",
      "Name: 0, dtype: float64\n",
      "4     22.0\n",
      "8     22.0\n",
      "12    23.0\n",
      "16    22.0\n",
      "20    22.0\n",
      "Name: 0, dtype: float64\n"
     ]
    }
   ],
   "source": [
    "n = 3623\n",
    "temperature = pd.DataFrame(np.zeros((n, 1)));\n",
    "tvoc = pd.DataFrame(np.zeros((n, 1)));\n",
    "CD = pd.DataFrame(np.zeros((n, 1)));\n",
    "humidity = pd.DataFrame(np.zeros((n, 1)));\n",
    "for i in range(0,3623):\n",
    "    if df.iloc[i,1] == \"temperature\":\n",
    "        temperature[i] = df.iloc[i,2];\n",
    "    elif df.iloc[i,1] == \"tvoc\":\n",
    "        tvoc[i] = df.iloc[i,2];\n",
    "    elif df.iloc[i,1] == \"humidity\":\n",
    "        humidity[i] = df.iloc[i,2];\n",
    "    else:\n",
    "        CD[i] = df.iloc[i,2]\n",
    "                    \n",
    "        \n",
    "temperature = temperature.iloc[0];\n",
    "temperature = temperature.iloc[1:];\n",
    "temperature.dropna();\n",
    "print(temperature.head())\n",
    "tvoc = tvoc.iloc[0];\n",
    "tvoc = tvoc.iloc[1:];\n",
    "tvoc.dropna();\n",
    "print(tvoc.head())\n",
    "CD = CD.iloc[0];\n",
    "CD = CD.iloc[1:];\n",
    "CD.dropna();\n",
    "print(CD.head())\n",
    "humidity = humidity.iloc[0];\n",
    "humidity = humidity.iloc[1:];\n",
    "humidity.dropna();\n",
    "print(humidity.head())"
   ]
  },
  {
   "cell_type": "code",
   "execution_count": 217,
   "metadata": {},
   "outputs": [
    {
     "name": "stdout",
     "output_type": "stream",
     "text": [
      "               0            1       2\n",
      "0  1583006871438     humidity   22.00\n",
      "1  1583006871446  temperature   73.94\n",
      "2  1583006871446          co2  759.00\n",
      "3  1583006871447         tvoc   54.00\n",
      "4  1583006874510     humidity   22.00\n",
      "                  0            1       2\n",
      "0     1583006871438     humidity   22.00\n",
      "1     1583006871446  temperature   73.94\n",
      "2     1583006871446          co2  759.00\n",
      "3     1583006871447         tvoc   54.00\n",
      "4     1583006874510     humidity   22.00\n",
      "...             ...          ...     ...\n",
      "3618  1583010081050         tvoc   19.00\n",
      "3619  1583010084113     humidity   20.00\n",
      "3620  1583010084133  temperature   70.88\n",
      "3621  1583010084134          co2  527.00\n",
      "3622  1583010084134         tvoc   19.00\n",
      "\n",
      "[3623 rows x 3 columns]\n"
     ]
    }
   ],
   "source": [
    "# Make a new data frame with cleaned data \n",
    "# df = pd.concat([temperature, tvoc, CD, humidity], ignore_index=True, sort=False)\n",
    "# df = pd.concat([temperature, tvoc, CD, humidity],axis = 1)\n",
    "print(df.head())\n",
    "print(df)"
   ]
  },
  {
   "cell_type": "code",
   "execution_count": 200,
   "metadata": {},
   "outputs": [
    {
     "data": {
      "image/png": "[encoded data removed]",
      "text/plain": [
       "<Figure size 432x288 with 1 Axes>"
      ]
     },
     "metadata": {
      "needs_background": "light"
     },
     "output_type": "display_data"
    },
    {
     "data": {
      "image/png": "[encoded data removed]",
      "text/plain": [
       "<Figure size 432x288 with 1 Axes>"
      ]
     },
     "metadata": {
      "needs_background": "light"
     },
     "output_type": "display_data"
    }
   ],
   "source": [
    "plt.plot(temperature,humidity, '--y')\n",
    "         #time, CD, 'r', time, humidity, 'bs', time, tvoc, 'g^')\n",
    "# legend(['temperature', 'Carbon Dioxide', 'Humidity', 'Water'])\n",
    "\n",
    "plt.xlabel('Temperature ')\n",
    "plt.ylabel('Humidity')\n",
    "plt.title('Temperature VS Humidity')\n",
    "plt.show()\n",
    "\n",
    "plt.plot(CD, tvoc, 'g^')\n",
    "plt.xlabel('Carbon dioxide')\n",
    "plt.ylabel('Volatile Organic Compound')\n",
    "plt.title('CO2 VS Volatile Organic Compound')\n",
    "plt.show()"
   ]
  },
  {
   "cell_type": "code",
   "execution_count": 221,
   "metadata": {},
   "outputs": [],
   "source": [
    "# Find if there are any 3D relationship between the environmental indexes \n",
    "# import matplotlib as mpl\n",
    "# mpl.rcParams['legend.fontsize'] = 10\n",
    "# fig = plt.figure()\n",
    "# ax = fig.gca(projection='3d')\n",
    "# ax.plot(CD,tvoc, temperature, label='parametric curve')\n",
    "# ax.legend()\n",
    "# plt.show()\n",
    "\n",
    "# ax.plot(CD,tvoc, humidity, label='parametric curve')\n",
    "# ax.legend()\n",
    "# plt.show()"
   ]
  },
  {
   "cell_type": "code",
   "execution_count": null,
   "metadata": {},
   "outputs": [],
   "source": [
    "# It can be viewed that Temperature has no strong relationship with humidity in this case \n",
    "# So the operator would dig into the relationship between carbon dioxide and volatile organic compund"
   ]
  },
  {
   "cell_type": "code",
   "execution_count": null,
   "metadata": {},
   "outputs": [],
   "source": [
    "# This section is intended to save the image as html \n",
    "# But Alden has done the part \n",
    "# So skipped \n",
    "# tmpfile = BytesIO()\n",
    "# fig.savefig('my_plot.png', format = 'png')\n",
    "# encoded = base64.b64encode(tmpfile.getvalue()).decode('utf-8')\n",
    "\n",
    "# plot_html = 'Some html head' + '<img src=\\'data:image/png;base64,{}\\'>'.format(encoded) + 'Some more html'\n",
    "\n",
    "# with open('test.html','w') as f:\n",
    "#     f.write(plot_html)"
   ]
  },
  {
   "cell_type": "code",
   "execution_count": null,
   "metadata": {},
   "outputs": [],
   "source": [
    "# An alternative method: \n",
    "# def fig_to_base64(fig)\n",
    "#     img = io.BytesIO()\n",
    "#     fig.savefig(img, format='png',\n",
    "#                 bbox_inches='tight')\n",
    "#     img.seek(0)\n",
    "\n",
    "#     return base64.b64encode(img.getvalue())\n",
    "\n",
    "# encoded = fig_to_base64(fig)\n",
    "# my_html = '<img src=\"data:image/png;base64, {}\">'.format(encoded.decode('utf-8'))"
   ]
  },
  {
   "cell_type": "code",
   "execution_count": 136,
   "metadata": {},
   "outputs": [],
   "source": [
    "# Time series \n",
    "# Cleaning and tidying datetime data #\n",
    "# Convert the date column to string: df_dropped['date']\n",
    "\n",
    "# Convert the date_string Series to datetime: date_times\n",
    "# date_times = time.to_datetime('time', format='%Y%m%d%H%M')\n",
    "# import datetime as dt\n",
    "# timestamps = time;\n",
    "# lenTime = len(timestamps);\n",
    "# timeSeries = [];\n",
    "# for timestamp in timestamps:\n",
    "#     value = dt.datetime.fromtimestamp(timestamp)\n",
    "#     if value in timeSeries:\n",
    "#         pass\n",
    "#     else:\n",
    "#         timeSeries.append(value)\n",
    "        \n",
    "print(timeSeries)\n",
    "# Print the output of df_clean.head()\n",
    "# print(date_times.head())"
   ]
  },
  {
   "cell_type": "code",
   "execution_count": 151,
   "metadata": {},
   "outputs": [
    {
     "name": "stdout",
     "output_type": "stream",
     "text": [
      "959 852 959 852\n"
     ]
    }
   ],
   "source": [
    "# Analyze the relationship between temperature and CO2\n",
    "# Analyze the relationship between temperature and humidity \n",
    "# Analyze the relationship between temperature and VOC\n",
    "n = len(temperature)\n",
    "m = len(CD)\n",
    "l = len(humidity)\n",
    "k = len(tvoc)\n",
    "\n",
    "print(n,m,l,k)\n",
    "assert n== l\n",
    "assert m== k"
   ]
  },
  {
   "cell_type": "code",
   "execution_count": 203,
   "metadata": {},
   "outputs": [],
   "source": [
    "# # Convert value to list \n",
    "# temp_list = temperature.values.tolist();\n",
    "# CD_list = CD.values.tolist();\n",
    "# humidity = humidity.values.tolist();\n",
    "# tvoc = tvoc.values.tolist()"
   ]
  },
  {
   "cell_type": "code",
   "execution_count": 182,
   "metadata": {},
   "outputs": [
    {
     "name": "stdout",
     "output_type": "stream",
     "text": [
      "The mean, standard deviation and median of temperature are: 73.86446088794926,1.4259509549240046,nan \n",
      "The mean, standard deviation and median of carbon dioxide are: 925.9424882629108,572.6479452749406,614.0 \n",
      "The mean, standard deviation and median of tVOC are: 152.0011737089202,277.5702402303482,32.0 \n",
      "The mean, standard deviation and median of humidity are: nan,nan,nan \n"
     ]
    }
   ],
   "source": [
    "# Stackeed graph \n",
    "# But how?\n",
    "# tempMed = temperature.median()\n",
    "tempMean = np.mean(temperature)\n",
    "tempstd = np.std(temperature)\n",
    "tempMed = np.median(temperature)\n",
    "CDMean = np.mean(CD)\n",
    "CDstd = np.std(CD)\n",
    "CDMed = np.median(CD)\n",
    "humiMean = np.mean(humidity)\n",
    "humistd = np.std(humidity)\n",
    "humiMed = np.median(humidity)\n",
    "tvocMean = np.mean(tvoc)\n",
    "tvocstd = np.std(tvoc)\n",
    "tvocMed = np.median(tvoc)\n",
    "print(\"The mean, standard deviation and median of temperature are: {},{},{} \".format(tempMean, tempstd,tempMed))\n",
    "print(\"The mean, standard deviation and median of carbon dioxide are: {},{},{} \".format(CDMean, CDstd,CDMed))\n",
    "print(\"The mean, standard deviation and median of tVOC are: {},{},{} \".format(tvocMean, tvocstd,tvocMed))\n",
    "print(\"The mean, standard deviation and median of humidity are: {},{},{} \".format(humiMean, humistd,humiMed))"
   ]
  },
  {
   "cell_type": "code",
   "execution_count": 202,
   "metadata": {},
   "outputs": [],
   "source": [
    "# Covariance and Pearson \n",
    "\n",
    "# cov_mat = np.stack((temperature, humidity), axis = 1)  \n",
    "# print(\"shape of matrix temperature and humidity:\", np.shape(cov_mat)) \n",
    "# print(\"shape of covariance matrix of temperature and humidity:\", np.shape(np.cov(cov_mat)))   \n",
    "# print(np.cov(cov_mat)) \n",
    "# corr1, _ = pearsonr(temperature, humidity)\n",
    "# print('The Pearsons correlation of temperature and humidity is: %.3f' % corr1)\n"
   ]
  },
  {
   "cell_type": "code",
   "execution_count": 222,
   "metadata": {
    "scrolled": true
   },
   "outputs": [
    {
     "data": {
      "image/png": "[encoded data removed]",
      "text/plain": [
       "<Figure size 432x288 with 1 Axes>"
      ]
     },
     "metadata": {
      "needs_background": "light"
     },
     "output_type": "display_data"
    }
   ],
   "source": [
    "# Deploy models to make predictions \n",
    "\n",
    "train_size = round(int(0.75 * m))\n",
    "test_size = m - train_size \n",
    "x = CD;\n",
    "y = tvoc;\n",
    "plt.scatter(x, y, alpha = 0.5)\n",
    "plt.show()"
   ]
  },
  {
   "cell_type": "code",
   "execution_count": 224,
   "metadata": {},
   "outputs": [
    {
     "name": "stdout",
     "output_type": "stream",
     "text": [
      "[[ 992.81600182 2306.57130717]\n",
      " [ 648.20582069 1253.95331423]\n",
      " [2237.70062724 2070.8131383 ]]\n"
     ]
    },
    {
     "data": {
      "image/png": "[encoded data removed]",
      "text/plain": [
       "<Figure size 432x288 with 1 Axes>"
      ]
     },
     "metadata": {
      "needs_background": "light"
     },
     "output_type": "display_data"
    }
   ],
   "source": [
    "# Centroid Clustering\n",
    "# Number of clusters\n",
    "k = 3\n",
    "# Create x coordinates of k random centroids\n",
    "centroids_x = np.random.uniform(min(x), max(x), k)\n",
    "# Create y coordinates of k random centroids\n",
    "centroids_y = np.random.uniform(min(y), max(y), k)\n",
    "# Create centroids array\n",
    "centroids = np.array(list(zip(centroids_x, centroids_y)))\n",
    "print(centroids)\n",
    "# Make a scatter plot of x, y\n",
    "plt.scatter(x,y)\n",
    "# Make a scatter plot of the centroids\n",
    "plt.scatter(centroids_x, centroids_y)\n",
    "\n",
    "plt.xlabel('Carbon Dioxide')\n",
    "plt.ylabel('Volatile Organic Compound')\n",
    "# Display plot\n",
    "plt.show()"
   ]
  },
  {
   "cell_type": "code",
   "execution_count": 226,
   "metadata": {},
   "outputs": [
    {
     "name": "stdout",
     "output_type": "stream",
     "text": [
      "[2. 0. 0. 0. 0. 0. 0. 0. 0. 0. 0. 0. 0. 0. 0. 0. 0. 0. 0. 0. 0. 0. 0. 0.\n",
      " 0. 0. 0. 0. 0. 0. 0. 0. 0. 0. 0. 0. 0. 0. 0. 0. 0. 0. 0. 0. 0. 0. 0. 0.\n",
      " 0. 0. 0. 0. 0. 0. 0. 0. 2. 2. 0. 2. 0. 2. 2. 2. 2. 2. 2. 2. 2. 2. 2. 2.\n",
      " 2. 2. 2. 2. 2. 2. 2. 2. 1. 2. 2. 2. 2. 2. 2. 2. 2. 2. 2. 2. 2. 2. 2. 2.\n",
      " 2. 2. 2. 2. 2. 2. 2. 0. 2. 2. 2. 2. 2. 2. 2. 2. 2. 2. 2. 2. 2. 2. 2. 2.\n",
      " 1. 1. 1. 0. 0. 0. 0. 0. 0. 0. 0. 0. 0. 0. 0. 0. 0. 0. 0. 0. 0. 0. 0. 0.\n",
      " 0. 0. 0. 0. 2. 0. 0. 0. 2. 2. 2. 2. 2. 2. 2. 0. 0. 2. 2. 2. 2. 0. 0. 2.\n",
      " 1. 1. 1. 2. 1. 2. 2. 1. 1. 1. 1. 1. 1. 2. 2. 2. 2. 1. 1. 1. 1. 1. 1. 1.\n",
      " 1. 2. 2. 2. 2. 2. 2. 2. 2. 2. 2. 2. 2. 2. 2. 2. 2. 2. 2. 2. 2. 2. 2. 2.\n",
      " 2. 2. 2. 2. 2. 2. 2. 2. 2. 2. 2. 2. 2. 2. 2. 2. 2. 2. 2. 2. 2. 2. 2. 2.\n",
      " 2. 2. 2. 2. 2. 2. 2. 2. 2. 2. 2. 2. 2. 2. 2. 2. 2. 2. 2. 2. 2. 2. 2. 2.\n",
      " 2. 2. 2. 2. 2. 2. 2. 2. 2. 2. 2. 2. 2. 2. 2. 2. 2. 2. 2. 2. 2. 2. 2. 2.\n",
      " 2. 2. 2. 2. 2. 2. 2. 2. 2. 2. 2. 2. 2. 2. 2. 2. 2. 2. 2. 2. 2. 2. 2. 2.\n",
      " 2. 2. 2. 2. 2. 2. 2. 2. 2. 2. 2. 2. 2. 2. 2. 2. 2. 2. 2. 2. 2. 2. 2. 2.\n",
      " 2. 2. 2. 2. 2. 2. 2. 2. 2. 2. 0. 0. 0. 0. 2. 2. 2. 2. 0. 0. 0. 2. 2. 0.\n",
      " 0. 2. 0. 0. 0. 0. 0. 2. 2. 0. 0. 0. 0. 0. 0. 0. 0. 0. 0. 0. 0. 0. 0. 0.\n",
      " 0. 0. 0. 0. 0. 0. 0. 0. 0. 0. 0. 0. 0. 0. 0. 0. 0. 2. 2. 0. 2. 0. 0. 0.\n",
      " 0. 2. 2. 2. 2. 0. 2. 2. 0. 2. 2. 1. 1. 1. 2. 1. 2. 2. 2. 2. 2. 2. 2. 2.\n",
      " 2. 2. 2. 2. 2. 2. 2. 2. 2. 0. 2. 0. 0. 0. 0. 0. 2. 2. 2. 0. 0. 0. 0. 0.\n",
      " 0. 0. 0. 0. 0. 0. 0. 2. 2. 2. 0. 2. 0. 0. 0. 2. 0. 2. 2. 2. 2. 2. 2. 2.\n",
      " 2. 2. 0. 0. 2. 2. 2. 1. 2. 2. 1. 0. 0. 2. 2. 2. 2. 2. 2. 2. 2. 2. 1. 2.\n",
      " 0. 0. 0. 2. 0. 2. 2. 2. 2. 0. 2. 2. 2. 2. 0. 2. 2. 2. 0. 2. 2. 2. 2. 2.\n",
      " 2. 2. 2. 2. 2. 0. 0. 0. 0. 0. 0. 0. 0. 0. 0. 2. 2. 2. 2. 2. 2. 2. 0. 0.\n",
      " 0. 2. 2. 2. 0. 0. 0. 0. 0. 0. 0. 0. 0. 2. 0. 0. 0. 0. 0. 0. 0. 0. 0. 0.\n",
      " 0. 0. 0. 0. 0. 0. 0. 0. 0. 0. 0. 0. 0. 0. 0. 0. 0. 0. 0. 0. 0. 0. 0. 0.\n",
      " 0. 0. 0. 0. 0. 0. 0. 0. 0. 0. 0. 0. 0. 0. 0. 0. 0. 0. 0. 0. 0. 0. 0. 0.\n",
      " 0. 0. 0. 0. 0. 0. 0. 0. 0. 0. 0. 0. 0. 0. 0. 0. 0. 0. 0. 0. 0. 0. 0. 0.\n",
      " 0. 0. 2. 0. 2. 2. 0. 0. 0. 0. 0. 0. 0. 0. 0. 0. 0. 0. 0. 0. 0. 0. 0. 0.\n",
      " 0. 0. 0. 0. 0. 0. 0. 0. 0. 0. 0. 0. 0. 0. 0. 0. 0. 0. 0. 0. 0. 0. 0. 0.\n",
      " 0. 0. 0. 0. 0. 0. 0. 0. 0. 0. 0. 0. 0. 0. 0. 0. 0. 0. 0. 0. 0. 0. 0. 0.\n",
      " 0. 0. 0. 0. 0. 0. 0. 0. 0. 0. 0. 0. 0. 0. 0. 0. 0. 0. 0. 0. 0. 0. 0. 0.\n",
      " 0. 0. 0. 0. 0. 0. 0. 0. 0. 0. 0. 0. 0. 0. 0. 0. 0. 0. 0. 0. 0. 0. 0. 0.\n",
      " 0. 0. 0. 0. 0. 0. 0. 0. 0. 0. 0. 0. 0. 0. 0. 0. 0. 0. 0. 0. 0. 0. 0. 0.\n",
      " 0. 0. 0. 0. 0. 0. 0. 0. 0. 0. 0. 0. 0. 0. 0. 0. 0. 0. 0. 0. 0. 0. 0. 0.\n",
      " 0. 0. 0. 0. 0. 0. 0. 0. 0. 0. 0. 0. 0. 0. 0. 0. 0. 0. 0. 0. 0. 0. 0. 0.\n",
      " 0. 0. 0. 0. 0. 0. 0. 0. 0. 0. 0. 0.]\n"
     ]
    }
   ],
   "source": [
    "# Deploy Euclidean Disatance to determine if there is any relationship between x and y\n",
    "CD_tvoc = np.array(list(zip(x, y)))\n",
    "\n",
    "# Step 1: Place K random centroids\n",
    "\n",
    "k = 3\n",
    "\n",
    "centroids_x = np.random.uniform(min(x), max(x), size=k)\n",
    "centroids_y = np.random.uniform(min(y), max(y), size=k)\n",
    "\n",
    "centroids = np.array(list(zip(centroids_x, centroids_y)))\n",
    "\n",
    "# Step 2: Assign samples to nearest centroid\n",
    "\n",
    "# Distance formula\n",
    "def distance(a, b):\n",
    "  one = (a[0] - b[0]) ** 2\n",
    "  two = (a[1] - b[1]) ** 2\n",
    "  distance = (one+two) ** 0.5\n",
    "  return distance\n",
    "# Cluster labels for each point (either 0, 1, or 2)\n",
    "labels = np.zeros(len(CD))\n",
    "# Distances to each centroid\n",
    "distances = np.zeros(k)\n",
    "# Assign to the closest centroid\n",
    "for i in range(len(CD)):\n",
    "  distances[0] = distance(CD_tvoc[i], centroids[0])\n",
    "  distances[1] = distance(CD_tvoc[i], centroids[1])\n",
    "  distances[2] = distance(CD_tvoc[i], centroids[2])\n",
    "  cluster = np.argmin(distances)\n",
    "  labels[i] = cluster\n",
    "# Print labels\n",
    "print(labels)"
   ]
  },
  {
   "cell_type": "code",
   "execution_count": 229,
   "metadata": {},
   "outputs": [
    {
     "name": "stdout",
     "output_type": "stream",
     "text": [
      "[[1058.51032345  893.26119304]\n",
      " [2459.84776479 1521.48248104]\n",
      " [1635.68927478  151.23494845]]\n",
      "- - - - - - - - - - - - - -\n",
      "[[ 493.60165975   13.84232365]\n",
      " [2268.37931034 1285.75862069]\n",
      " [1422.8856305   250.86803519]]\n"
     ]
    }
   ],
   "source": [
    "# Update the labels\n",
    "import copy \n",
    "centroids_old = copy.deepcopy(centroids)\n",
    "\n",
    "for i in range(k):\n",
    "  points = [CD_tvoc[j] for j in range(len(CD_tvoc)) if labels[j] == i]\n",
    "  centroids[i] = np.mean(points, axis = 0)\n",
    "  \n",
    "print(centroids_old)\n",
    "print(\"- - - - - - - - - - - - - -\")\n",
    "print(centroids)"
   ]
  },
  {
   "cell_type": "code",
   "execution_count": null,
   "metadata": {},
   "outputs": [],
   "source": [
    "#Repeat calculating error until stablizing\n",
    "error = np.zeros(3)\n",
    "error[0] = distance(centroids[0], centroids_old[0])\n",
    "error[1] = distance(centroids[1], centroids_old[1])\n",
    "error[2] = distance(centroids[2], centroids_old[2])\n",
    "\n",
    "while error.all() != 0:\n",
    "  error[0] = distance(centroids[0], centroids_old[0])\n",
    "  error[1] = distance(centroids[1], centroids_old[1])\n",
    "  error[2] = distance(centroids[2], centroids_old[2])\n",
    "\n",
    "colors = ['r', 'g', 'b']\n",
    "plt.scatter(points[:, 0], points[:, 1], c=colors[i], alpha=0.5)"
   ]
  },
  {
   "cell_type": "code",
   "execution_count": null,
   "metadata": {},
   "outputs": [],
   "source": [
    "# Deploy KMeans \n",
    "from sklearn.cluster import KMeans\n",
    "values = np.array(list(zip(x, y)))\n",
    "\n",
    "centroids = np.array(list(zip(centroids_x, centroids_y)))\n",
    "\n",
    "model = KMeans(init=\"k-means++\", n_clusters=2)\n",
    "# Initial centroids\n",
    "# plt.scatter(centroids[:, 0], centroids[:, 1], marker='D', s=100)\n",
    "\n",
    "results = model.fit_predict(values)\n",
    "\n",
    "plt.scatter(x, y, c=results, alpha=1)\n",
    "\n",
    "# Cluster centers\n",
    "plt.scatter(model.cluster_centers_[:, 0], model.cluster_centers_[:, 1], marker='v', s=100)\n",
    "\n",
    "ax = plt.subplot()\n",
    "ax.set_xticks([0, 1, 2, 3, 4, 5])\n",
    "ax.set_yticks([0, 1, 2, 3, 4])\n",
    "\n",
    "plt.title('K-Means++ Initialization')\n",
    "plt.show()\n",
    "print(\"The model's inertia is \" + str(model.inertia_))\n",
    "\n",
    "#Recap\n",
    "#The KMeans() function has an init parameter, \n",
    "#Which specifies the method for initialization:\n",
    "#'random' & 'K-Means++'"
   ]
  },
  {
   "cell_type": "code",
   "execution_count": null,
   "metadata": {},
   "outputs": [],
   "source": [
    "# Up to now \n",
    "# We need more data to train the model \n",
    "# Still do not have clear conclusion on the relationship between carbon dioxide and volatile organic compound \n",
    "# But according the sample \n",
    "# There is linear relationship between the two indexes \n",
    "# So, we will move forward!"
   ]
  }
 ],
 "metadata": {
  "kernelspec": {
   "display_name": "Python 3",
   "language": "python",
   "name": "python3"
  },
  "language_info": {
   "codemirror_mode": {
    "name": "ipython",
    "version": 3
   },
   "file_extension": ".py",
   "mimetype": "text/x-python",
   "name": "python",
   "nbconvert_exporter": "python",
   "pygments_lexer": "ipython3",
   "version": "3.8.1"
  }
 },
 "nbformat": 4,
 "nbformat_minor": 4
}
